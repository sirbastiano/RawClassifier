{
 "cells": [
  {
   "cell_type": "code",
   "execution_count": 3,
   "metadata": {},
   "outputs": [],
   "source": [
    "from pathlib import Path \n",
    "import matplotlib.pyplot as plt\n",
    "import seaborn  as sns\n",
    "import os"
   ]
  },
  {
   "cell_type": "code",
   "execution_count": 5,
   "metadata": {},
   "outputs": [
    {
     "name": "stdout",
     "output_type": "stream",
     "text": [
      "The dataset distribution is:\n"
     ]
    },
    {
     "data": {
      "text/plain": [
       "{'Other': [1507],\n",
       " 'Cargo': [1474],\n",
       " 'Tanker': [1407],\n",
       " 'Bulk Carrier': [1560],\n",
       " 'Container Ship': [1476]}"
      ]
     },
     "execution_count": 5,
     "metadata": {},
     "output_type": "execute_result"
    }
   ],
   "source": [
    "basepath = Path(os.getcwd()+'/ds')\n",
    "folders = [x for x in Path(basepath).iterdir() if x.is_dir()]\n",
    "classes = [x.name for x in folders]\n",
    "\n",
    "class_numbers = {x:[] for x in classes}\n",
    "\n",
    "for folder in folders:\n",
    "    class_numbers[folder.name].append(len(list(folder.iterdir())))\n",
    "\n",
    "print('The dataset distribution is:')\n",
    "class_numbers\n",
    "\n"
   ]
  },
  {
   "cell_type": "code",
   "execution_count": null,
   "metadata": {},
   "outputs": [],
   "source": []
  }
 ],
 "metadata": {
  "kernelspec": {
   "display_name": "testEnv",
   "language": "python",
   "name": "python3"
  },
  "language_info": {
   "codemirror_mode": {
    "name": "ipython",
    "version": 3
   },
   "file_extension": ".py",
   "mimetype": "text/x-python",
   "name": "python",
   "nbconvert_exporter": "python",
   "pygments_lexer": "ipython3",
   "version": "3.9.16"
  }
 },
 "nbformat": 4,
 "nbformat_minor": 2
}
